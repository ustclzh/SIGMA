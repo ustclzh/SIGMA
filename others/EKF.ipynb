{
 "cells": [
  {
   "attachments": {},
   "cell_type": "markdown",
   "metadata": {},
   "source": [
    "# OU Process"
   ]
  },
  {
   "cell_type": "code",
   "execution_count": 61,
   "metadata": {},
   "outputs": [
    {
     "data": {
      "image/png": "[encoded data removed]",
      "text/plain": [
       "<Figure size 432x288 with 1 Axes>"
      ]
     },
     "metadata": {
      "needs_background": "light"
     },
     "output_type": "display_data"
    },
    {
     "name": "stdout",
     "output_type": "stream",
     "text": [
      "[[0.         0.9995922  0.99958388 0.2       ]\n",
      " [0.13600307 3.63170536 3.68541364 0.2       ]\n",
      " [0.25773264 3.13045674 2.41864037 0.2       ]\n",
      " [0.36423488 4.04442778 1.5040379  0.2       ]\n",
      " [0.47813572 3.64899632 1.84158671 0.2       ]\n",
      " [0.60507349 3.43481985 2.04634762 0.2       ]\n",
      " [0.6577483  3.63543503 1.82513365 0.2       ]\n",
      " [0.73941872 3.65609585 1.80813387 0.2       ]\n",
      " [0.82746814 3.59777404 1.85323408 0.2       ]\n",
      " [0.90550948 3.57681485 1.86918213 0.2       ]\n",
      " [0.9879039  3.51557501 1.91393365 0.2       ]\n",
      " [1.06837363 3.45394703 1.95826184 0.2       ]\n",
      " [1.11228602 3.51732918 1.91342116 0.2       ]\n",
      " [1.17493695 3.49262853 1.92943168 0.2       ]\n",
      " [1.23357189 3.47056519 1.94329383 0.2       ]\n",
      " [1.2912403  3.44067888 1.96150005 0.2       ]\n",
      " [1.3408106  3.42902286 1.96841795 0.2       ]\n",
      " [1.39998693 3.37590383 1.99895369 0.2       ]\n",
      " [1.41585833 3.45141064 1.95619013 0.2       ]\n",
      " [1.45927725 3.43146713 1.96686931 0.2       ]\n",
      " [1.49946825 3.41473721 1.97563582 0.2       ]\n",
      " [1.53056171 3.41902904 1.9734347  0.2       ]\n",
      " [1.5471249  3.45947997 1.95320658 0.2       ]\n",
      " [1.58165946 3.44046255 1.96243036 0.2       ]\n",
      " [1.58787618 3.4969905  1.93546277 0.2       ]\n",
      " [1.65644666 3.37132014 1.99374996 0.2       ]\n",
      " [1.65041796 3.44466059 1.95965368 0.2       ]\n",
      " [1.71157365 3.34168496 2.00624102 0.2       ]\n",
      " [1.72322666 3.36081387 1.9976189  0.2       ]\n",
      " [1.76083165 3.3159225  2.01749451 0.2       ]\n",
      " [1.76397318 3.3470144  2.00388559 0.2       ]\n",
      " [1.73141507 3.45460692 1.95754359 0.2       ]\n",
      " [1.77209789 3.39852143 1.98127521 0.2       ]\n",
      " [1.85546999 3.25096325 2.04304172 0.2       ]\n",
      " [1.84474655 3.29654176 2.02416332 0.2       ]\n",
      " [1.92224526 3.16774287 2.07699344 0.2       ]\n",
      " [1.90616976 3.21599463 2.05751737 0.2       ]\n",
      " [1.89971883 3.24566588 2.04560679 0.2       ]\n",
      " [1.93259121 3.20362864 2.06237084 0.2       ]\n",
      " [1.95388605 3.18093279 2.07129884 0.2       ]\n",
      " [1.98741467 3.13647253 2.08859399 0.2       ]\n",
      " [1.95995773 3.19279809 2.06699799 0.2       ]\n",
      " [1.97706705 3.17613529 2.07341189 0.2       ]\n",
      " [1.94980999 3.22910897 2.05323353 0.2       ]\n",
      " [1.96639104 3.2138538  2.0590772  0.2       ]\n",
      " [1.93779408 3.26608333 2.03929062 0.2       ]\n",
      " [1.9527371  3.25392068 2.04393492 0.2       ]\n",
      " [1.9640229  3.24622375 2.04684109 0.2       ]\n",
      " [1.95116534 3.271978   2.03720749 0.2       ]\n",
      " [1.90911659 3.33737726 2.01267229 0.2       ]]\n"
     ]
    }
   ],
   "source": [
    "from scripts import EKF # inferred module\n",
    "import numpy as np\n",
    "import matplotlib.pyplot as plt\n",
    "\n",
    "\n",
    "theta_true = np.array([3,2,0.2])\n",
    "dim_para = theta_true.shape[0]\n",
    "K = 100\n",
    "N_num = 50\n",
    "Parameter_est= np.zeros((K,dim_para+1))\n",
    "for i in range(100):\n",
    "    model = EKF.SDE_OU(dt = 1/N_num)\n",
    "    measurements = model.generate_synthetic_data(theta = theta_true, N = N_num)\n",
    "    inferred_params = EKF.extended_kalman_filter(model, measurements)\n",
    "\n",
    "    Parameter_est[i] = np.mean(inferred_params[len(inferred_params) // 2:], axis=0)\n",
    "# Create a figure instance\n",
    "fig = plt.figure()\n",
    "# Create an axes instance\n",
    "ax = fig.add_axes([0,0,1,1])\n",
    "# Create the boxplot\n",
    "bp = ax.boxplot(Parameter_est[:,1:])\n",
    "plt.show()\n",
    "print(inferred_params)\n",
    "from scipy.io import savemat\n",
    "\n",
    "ERR_summary = {\n",
    "    'inferred_params': Parameter_est,\n",
    "}\n",
    "filename = 'EKF_OU' + str(N_num) + '.mat'\n",
    "savemat(filename,ERR_summary)\n",
    "\n"
   ]
  },
  {
   "attachments": {},
   "cell_type": "markdown",
   "metadata": {},
   "source": [
    "# Bessel Process"
   ]
  },
  {
   "cell_type": "code",
   "execution_count": 65,
   "metadata": {},
   "outputs": [
    {
     "data": {
      "image/png": "[encoded data removed]",
      "text/plain": [
       "<Figure size 432x288 with 1 Axes>"
      ]
     },
     "metadata": {
      "needs_background": "light"
     },
     "output_type": "display_data"
    }
   ],
   "source": [
    "from scripts import EKF # inferred module\n",
    "import numpy as np\n",
    "\n",
    "theta_true = np.array([5,0.5])\n",
    "dim_para = theta_true.shape[0]\n",
    "K = 100\n",
    "N_num = 100\n",
    "Parameter_est= np.zeros((K,dim_para+1))\n",
    "for i in range(100):\n",
    "    model = EKF.Bessel_Process(dt = 1/N_num)\n",
    "    measurements = model.generate_synthetic_data(theta = theta_true, N = N_num)\n",
    "    inferred_params = EKF.extended_kalman_filter(model, measurements)\n",
    "\n",
    "    Parameter_est[i] = np.mean(inferred_params[len(inferred_params) // 2:], axis=0)\n",
    "\n",
    "# Create a figure instance\n",
    "fig = plt.figure()\n",
    "# Create an axes instance\n",
    "ax = fig.add_axes([0,0,1,1])\n",
    "# Create the boxplot\n",
    "bp = ax.boxplot(Parameter_est[:,1:])\n",
    "plt.show()\n",
    "\n",
    "from scipy.io import savemat\n",
    "\n",
    "ERR_summary = {\n",
    "    'inferred_params': Parameter_est,\n",
    "}\n",
    "filename = 'EKF_Bessel' + str(N_num) + '.mat'\n",
    "savemat(filename,ERR_summary)"
   ]
  },
  {
   "cell_type": "code",
   "execution_count": 147,
   "metadata": {},
   "outputs": [
    {
     "data": {
      "image/png": "[encoded data removed]",
      "text/plain": [
       "<Figure size 432x288 with 1 Axes>"
      ]
     },
     "metadata": {
      "needs_background": "light"
     },
     "output_type": "display_data"
    }
   ],
   "source": [
    "from scripts import EKF # inferred module\n",
    "import numpy as np\n",
    "import matplotlib.pyplot as plt\n",
    "N_num = 100\n",
    "theta_true = np.array([0.5, 0.0025, 0.3, 0.1, 0.1])\n",
    "dim_para = theta_true.shape[0]\n",
    "K = 100\n",
    "Parameter_est= np.zeros((K,dim_para+2))\n",
    "for i in range(K):\n",
    "    model = EKF.LotkaVolterraModel2(dt = 10/N_num)\n",
    "    measurements = model.generate_synthetic_data(theta = theta_true, N = N_num)\n",
    "    inferred_params = EKF.extended_kalman_filter(model, measurements)\n",
    "\n",
    "    Parameter_est[i] = np.mean(inferred_params[len(inferred_params) // 2:], axis=0)\n",
    "\n",
    "# Create a figure instance\n",
    "fig = plt.figure()\n",
    "# Create an axes instance\n",
    "ax = fig.add_axes([0,0,1,1])\n",
    "# Create the boxplot\n",
    "bp = ax.boxplot(Parameter_est[:,2:])\n",
    "plt.show()\n",
    "from scipy.io import savemat\n",
    "\n",
    "from scipy.io import savemat\n",
    "\n",
    "ERR_summary = {\n",
    "    'inferred_params': Parameter_est,\n",
    "}\n",
    "filename = 'EKF_LV' + str(N_num) + '.mat'\n",
    "savemat(filename,ERR_summary)"
   ]
  },
  {
   "cell_type": "code",
   "execution_count": 148,
   "metadata": {},
   "outputs": [
    {
     "data": {
      "text/plain": [
       "array([[  40.        ,    9.        ],\n",
       "       [  41.94755161,    8.83097329],\n",
       "       [  43.93496254,    8.63393978],\n",
       "       [  46.05500014,    8.45858892],\n",
       "       [  48.23936651,    8.27925513],\n",
       "       [  50.52856009,    8.13541312],\n",
       "       [  52.96902973,    7.99463948],\n",
       "       [  55.51084844,    7.90809563],\n",
       "       [  58.1568352 ,    7.73133568],\n",
       "       [  60.9431083 ,    7.58069297],\n",
       "       [  63.81630826,    7.51731855],\n",
       "       [  66.93745807,    7.41554933],\n",
       "       [  70.18201542,    7.29916907],\n",
       "       [  73.60137133,    7.1746983 ],\n",
       "       [  77.17097054,    7.03932859],\n",
       "       [  80.92004071,    7.00026747],\n",
       "       [  84.86203941,    6.95985537],\n",
       "       [  88.9369264 ,    6.89844866],\n",
       "       [  93.26391399,    6.83597099],\n",
       "       [  97.75855906,    6.7927673 ],\n",
       "       [ 102.46681322,    6.71563535],\n",
       "       [ 107.44830609,    6.6606602 ],\n",
       "       [ 112.6268347 ,    6.67529788],\n",
       "       [ 118.06555088,    6.65229071],\n",
       "       [ 123.71837037,    6.63107559],\n",
       "       [ 129.70252614,    6.64137969],\n",
       "       [ 136.0411345 ,    6.6530628 ],\n",
       "       [ 142.66339977,    6.72255657],\n",
       "       [ 149.53634965,    6.73415978],\n",
       "       [ 156.77424161,    6.76922136],\n",
       "       [ 164.38331828,    6.80690187],\n",
       "       [ 172.33659631,    6.90184111],\n",
       "       [ 180.6630302 ,    6.99598454],\n",
       "       [ 189.37700326,    7.10740799],\n",
       "       [ 198.51295188,    7.20057581],\n",
       "       [ 208.01890786,    7.36527735],\n",
       "       [ 218.03765345,    7.54480157],\n",
       "       [ 228.49987458,    7.75961465],\n",
       "       [ 239.5216018 ,    7.9389227 ],\n",
       "       [ 251.05483144,    8.16344362],\n",
       "       [ 263.07853519,    8.4521882 ],\n",
       "       [ 275.70003919,    8.71537985],\n",
       "       [ 288.83365655,    9.10220673],\n",
       "       [ 302.6219856 ,    9.45634111],\n",
       "       [ 317.04806307,    9.91953578],\n",
       "       [ 332.11422013,   10.42505803],\n",
       "       [ 347.85624921,   10.94630867],\n",
       "       [ 364.2800755 ,   11.58521501],\n",
       "       [ 381.4321727 ,   12.33542299],\n",
       "       [ 399.38519454,   13.20498054],\n",
       "       [ 418.0092105 ,   14.12581817],\n",
       "       [ 437.37927861,   15.16875548],\n",
       "       [ 457.53442262,   16.36497745],\n",
       "       [ 478.57520126,   17.71811454],\n",
       "       [ 500.35003628,   19.35469888],\n",
       "       [ 522.87482089,   21.18582474],\n",
       "       [ 546.22061299,   23.31971646],\n",
       "       [ 570.32772134,   25.76697313],\n",
       "       [ 595.15348722,   28.63734559],\n",
       "       [ 620.65597304,   32.04638543],\n",
       "       [ 646.73244413,   36.0777002 ],\n",
       "       [ 673.23334749,   40.85917096],\n",
       "       [ 700.00886287,   46.51715897],\n",
       "       [ 726.89538508,   53.24379083],\n",
       "       [ 753.56807167,   61.29202335],\n",
       "       [ 779.66591018,   71.01200453],\n",
       "       [ 804.82141883,   82.6974218 ],\n",
       "       [ 828.4291093 ,   96.89895836],\n",
       "       [ 849.81437512,  114.04302477],\n",
       "       [ 868.08334189,  134.85010122],\n",
       "       [ 882.16602422,  160.04364272],\n",
       "       [ 890.90209424,  190.55178239],\n",
       "       [ 892.98091256,  227.28566859],\n",
       "       [ 886.91152646,  271.23272317],\n",
       "       [ 871.11282488,  323.27503472],\n",
       "       [ 844.26899623,  383.97659906],\n",
       "       [ 805.44171503,  453.48450632],\n",
       "       [ 754.35022211,  531.18726068],\n",
       "       [ 691.93262247,  615.43051941],\n",
       "       [ 620.05681697,  703.4346015 ],\n",
       "       [ 542.0658149 ,  791.35824892],\n",
       "       [ 461.92659865,  874.83382324],\n",
       "       [ 383.95636607,  949.61026108],\n",
       "       [ 312.0559704 , 1012.28111516],\n",
       "       [ 248.63870977, 1060.90354474],\n",
       "       [ 195.13016609, 1095.05580123],\n",
       "       [ 151.46034501, 1115.63310378],\n",
       "       [ 116.76233332, 1124.42162425],\n",
       "       [  89.76331957, 1123.54799516],\n",
       "       [  69.0681381 , 1115.02827154],\n",
       "       [  53.27564867, 1100.85829393],\n",
       "       [  41.26296627, 1082.54268568],\n",
       "       [  32.10724501, 1061.26664725],\n",
       "       [  25.22297101, 1037.91949797],\n",
       "       [  19.89104785, 1013.29747107],\n",
       "       [  15.85375325,  987.93397732],\n",
       "       [  12.76456558,  962.25531693],\n",
       "       [  10.35283917,  936.45306885],\n",
       "       [   8.48103555,  910.8341032 ],\n",
       "       [   6.9623228 ,  885.46261458]])"
      ]
     },
     "execution_count": 148,
     "metadata": {},
     "output_type": "execute_result"
    }
   ],
   "source": [
    "measurements"
   ]
  },
  {
   "attachments": {},
   "cell_type": "markdown",
   "metadata": {},
   "source": [
    "# UKF\n",
    " "
   ]
  },
  {
   "cell_type": "code",
   "execution_count": 142,
   "metadata": {},
   "outputs": [
    {
     "data": {
      "image/png": "[encoded data removed]",
      "text/plain": [
       "<Figure size 432x288 with 1 Axes>"
      ]
     },
     "metadata": {
      "needs_background": "light"
     },
     "output_type": "display_data"
    }
   ],
   "source": [
    "import numpy as np\n",
    "from filterpy.kalman import MerweScaledSigmaPoints\n",
    "from filterpy.kalman import UnscentedKalmanFilter as UKF\n",
    "from scripts import EKF # inferred module\n",
    "K = 100\n",
    "N_num = 100\n",
    "Parameter_est= np.zeros((K,3+1))\n",
    "def ou_process(x, dt, theta, mu, sigma):\n",
    "    return x + theta * (mu - x) * dt, sigma * np.sqrt(dt)\n",
    "\n",
    "def ukf_ou(y, x0, theta0, mu0, sigma0, dt, Q, R):\n",
    "    # Initial parameters\n",
    "    x = np.array([x0, theta0, mu0, sigma0])\n",
    "    \n",
    "    # Define the state transition function\n",
    "    def f(x, dt):\n",
    "        x_next, sigma = ou_process(x[0], dt, x[1], x[2], x[3])\n",
    "        return np.array([x_next, x[1], x[2], sigma])\n",
    "\n",
    "    # Define the observation function\n",
    "    def h(x):\n",
    "        return np.array([x[0]])\n",
    "\n",
    "    # Initialize the UKF\n",
    "    points = MerweScaledSigmaPoints(4, alpha=.1, beta=2., kappa=-1)\n",
    "    ukf = UKF(dim_x=4, dim_z=1, dt=dt, fx=f, hx=h, points=points)\n",
    "    ukf.x = x\n",
    "    ukf.R = R\n",
    "    ukf.Q = Q\n",
    "\n",
    "    # Iterate over the observations\n",
    "    for yi in y:\n",
    "        ukf.predict()\n",
    "        ukf.update(np.array([yi]))\n",
    "\n",
    "    return ukf.x\n",
    "import numpy as np\n",
    "\n",
    "for i in range(K):\n",
    "    model = EKF.SDE_OU(dt = 1/N_num)\n",
    "    theta_true = np.array([3,2,0.2])\n",
    "    y = model.generate_synthetic_data(theta = theta_true, N = N_num)\n",
    "    y = y.squeeze()\n",
    "    # Let's assume you have a sequence of observations 'y' from an Ornstein-Uhlenbeck process\n",
    "\n",
    "    # Initial guesses for the state and parameters\n",
    "    x0 = 0  # initial state\n",
    "    theta0 = 2  # rate of reversion to the mean\n",
    "    mu0 = 2  # long-term mean of the process\n",
    "    sigma0 = 0.5  # volatility\n",
    "    # Time step size\n",
    "    dt = 1/N_num\n",
    "    # Process noise covariance matrix\n",
    "    Q = np.eye(4) * 0.1\n",
    "    # Measurement noise covariance matrix\n",
    "    R = np.eye(1) * 0.1\n",
    "    # Apply the Unscented Kalman Filter\n",
    "    x_est = ukf_ou(y, x0, theta0, mu0, sigma0, dt, Q, R)\n",
    "    Parameter_est[i] = x_est\n",
    "\n",
    "# Create a figure instance\n",
    "fig = plt.figure()\n",
    "# Create an axes instance\n",
    "ax = fig.add_axes([0,0,1,1])\n",
    "# Create the boxplot\n",
    "bp = ax.boxplot(Parameter_est[:,1:])\n",
    "plt.show()\n",
    "from scipy.io import savemat\n",
    "\n",
    "from scipy.io import savemat\n",
    "\n",
    "ERR_summary = {\n",
    "    'inferred_params': Parameter_est,\n",
    "}\n",
    "filename = 'UKF_OU' + str(N_num) + '.mat'\n",
    "savemat(filename,ERR_summary)\n"
   ]
  },
  {
   "cell_type": "code",
   "execution_count": 146,
   "metadata": {},
   "outputs": [
    {
     "name": "stdout",
     "output_type": "stream",
     "text": [
      "Estimated parameters:\n",
      "State x (prey): 0.3212538300257002\n",
      "State y (predator): -0.14627858116797832\n",
      "Alpha: -1.632274648027801\n",
      "Beta: 1.2145706438016395\n",
      "Gamma: 3.006583620435297\n",
      "Sigma1: 2.1961817800767283\n",
      "Sigma2: -1.746106841347156\n"
     ]
    }
   ],
   "source": [
    "import numpy as np\n",
    "from filterpy.kalman import MerweScaledSigmaPoints\n",
    "from filterpy.kalman import UnscentedKalmanFilter as UKF\n",
    "from scripts import EKF # inferred module\n",
    "K = 100\n",
    "N_num = 100\n",
    "Parameter_est= np.zeros((K,3+1))\n",
    "def sde_lv(x, dt, alpha, beta, gamma, sigma1, sigma2):\n",
    "    dB1 = np.random.normal(0, np.sqrt(dt))\n",
    "    dB2 = np.random.normal(0, np.sqrt(dt))\n",
    "    dx = (alpha * x[0] - beta * x[0] * x[1]) * dt + sigma1 * x[0] * dB1\n",
    "    dy = (beta * x[0] * x[1] - gamma * x[1]) * dt + sigma2 * x[1] * dB2\n",
    "    return np.array([x[0] + dx, x[1] + dy])\n",
    "\n",
    "def ukf_sde_lv(y, x00,x01, alpha0, beta0, gamma0, sigma10, sigma20, dt, Q, R):\n",
    "    # Initial parameters\n",
    "    x = np.array([x00, x01, alpha0, beta0, gamma0, sigma10, sigma20])\n",
    "    \n",
    "    # Define the state transition function\n",
    "    def f(x, dt):\n",
    "        x_next = sde_lv(x[:2], dt, x[2], x[3], x[4], x[5], x[6])\n",
    "        return np.concatenate([x_next, x[2:]])\n",
    "\n",
    "    # Define the observation function\n",
    "    def h(x):\n",
    "        return x[:2]\n",
    "\n",
    "    # Initialize the UKF\n",
    "    points = MerweScaledSigmaPoints(7, alpha=.1, beta=2., kappa=-1)\n",
    "    ukf = UKF(dim_x=7, dim_z=2, dt=dt, fx=f, hx=h, points=points)\n",
    "    ukf.x = x\n",
    "    ukf.R = R\n",
    "    ukf.Q = Q\n",
    "\n",
    "    # Iterate over the observations\n",
    "    for yi in y:\n",
    "        ukf.predict()\n",
    "        ukf.update(yi)\n",
    "\n",
    "    return ukf.x\n",
    "\n",
    "\n",
    "\n",
    "# Let's assume you have a sequence of observations 'y' from a stochastic Lotka-Volterra process\n",
    "model = EKF.LotkaVolterraModel2(dt = 10/N_num)\n",
    "theta_true = np.array([0.3, 0.02, 0.3, 0.1, 0.1])\n",
    "y = model.generate_synthetic_data(theta = theta_true, N = N_num)\n",
    "# Initial guesses for the state and parameters\n",
    "x00 = 41  # initial prey population\n",
    "x01 = 9 #initial predator population\n",
    "alpha0 = 0.1\n",
    "beta0 = 0.02\n",
    "gamma0 = 0.3\n",
    "delta0 = 0.01\n",
    "sigma10 = 0.1\n",
    "sigma20 = 0.1\n",
    "y = np.random.normal(0, 1, (100, 2))\n",
    "# Time step size\n",
    "dt = 10/N_num\n",
    "\n",
    "# Process noise covariance matrix\n",
    "Q = np.eye(7) * 0.1\n",
    "\n",
    "# Measurement noise covariance matrix\n",
    "R = np.eye(2) * 0.1\n",
    "\n",
    "# Apply the Unscented Kalman Filter\n",
    "x_est = ukf_sde_lv(y, x00, x01, alpha0, beta0, gamma0, sigma10, sigma20, dt, Q, R)\n",
    "\n",
    "print('Estimated parameters:')\n",
    "print('State x (prey):', x_est[0])\n",
    "print('State y (predator):', x_est[1])\n",
    "print('Alpha:', x_est[2])\n",
    "print('Beta:', x_est[3])\n",
    "print('Gamma:', x_est[4])\n",
    "print('Sigma1:', x_est[5])\n",
    "print('Sigma2:', x_est[6])\n",
    "\n"
   ]
  },
  {
   "cell_type": "code",
   "execution_count": 36,
   "metadata": {},
   "outputs": [
    {
     "name": "stderr",
     "output_type": "stream",
     "text": [
      "/var/folders/2m/771d6j2s26v_rv60hw5x8xv00000gq/T/ipykernel_56823/2725766426.py:1: VisibleDeprecationWarning: Creating an ndarray from ragged nested sequences (which is a list-or-tuple of lists-or-tuples-or ndarrays with different lengths or shapes) is deprecated. If you meant to do this, you must specify 'dtype=object' when creating the ndarray.\n",
      "  x = np.array([x0, alpha0, beta0, gamma0, delta0, sigma10, sigma20])\n"
     ]
    }
   ],
   "source": [
    "x = np.array([x0, alpha0, beta0, gamma0, delta0, sigma10, sigma20])\n"
   ]
  }
 ],
 "metadata": {
  "kernelspec": {
   "display_name": "Python 3.9.10 ('my_torch')",
   "language": "python",
   "name": "python3"
  },
  "language_info": {
   "codemirror_mode": {
    "name": "ipython",
    "version": 3
   },
   "file_extension": ".py",
   "mimetype": "text/x-python",
   "name": "python",
   "nbconvert_exporter": "python",
   "pygments_lexer": "ipython3",
   "version": "3.9.10"
  },
  "orig_nbformat": 4,
  "vscode": {
   "interpreter": {
    "hash": "845882564d643bedc5dbb63687110964d9adc527ba1784ae271c805356991803"
   }
  }
 },
 "nbformat": 4,
 "nbformat_minor": 2
}
